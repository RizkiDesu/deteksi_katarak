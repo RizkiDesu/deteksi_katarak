{
 "cells": [
  {
   "cell_type": "code",
   "execution_count": 1,
   "metadata": {},
   "outputs": [
    {
     "name": "stdout",
     "output_type": "stream",
     "text": [
      "UPDATE datapendertakatarak SET nama =' rizki ', nik = ' 3232323 ', tangal_lahir = ' 33434 ', pekerjaan = ' tani ', kelamin = ' laki ',hasil_deteksi= ' eerer ' WHERE id=  1 ;\n"
     ]
    }
   ],
   "source": [
    "id= 1\n",
    "nama = \"rizki\"\n",
    "kelamin = \"laki\"\n",
    "nik = \"3232323\"\n",
    "tanggal_lahir = \"33434\"\n",
    "pekerjaan = \"tani\"\n",
    "hasil = \"eerer\"\n",
    "print(\"UPDATE datapendertakatarak SET nama ='\",nama,\n",
    "                                                \"', nik = '\",nik,\n",
    "                                                \"', tangal_lahir = '\",tanggal_lahir,\n",
    "                                                \"', pekerjaan = '\",pekerjaan,\n",
    "                                                \"', kelamin = '\",kelamin,\n",
    "                                                \"',hasil_deteksi= '\",hasil,\n",
    "                                                \"' WHERE id= \",id,\";\")"
   ]
  },
  {
   "cell_type": "code",
   "execution_count": null,
   "metadata": {},
   "outputs": [],
   "source": [
    "UPDATE datapendertakatarak SET  nama ='rizki', nik = '3232323', tangal_lahir = '33434', pekerjaan = 'tani', kelamin = 'laki',hasil_deteksi= 'eerer'' WHERE id=  1 ;"
   ]
  }
 ],
 "metadata": {
  "kernelspec": {
   "display_name": "Python 3",
   "language": "python",
   "name": "python3"
  },
  "language_info": {
   "codemirror_mode": {
    "name": "ipython",
    "version": 3
   },
   "file_extension": ".py",
   "mimetype": "text/x-python",
   "name": "python",
   "nbconvert_exporter": "python",
   "pygments_lexer": "ipython3",
   "version": "3.10.6"
  }
 },
 "nbformat": 4,
 "nbformat_minor": 2
}
